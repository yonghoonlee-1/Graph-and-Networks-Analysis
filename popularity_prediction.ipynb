{
  "nbformat": 4,
  "nbformat_minor": 0,
  "metadata": {
    "colab": {
      "name": "popularity_prediction.ipynb",
      "provenance": [],
      "authorship_tag": "ABX9TyOBeqJ5ZuDgAue6XALlYmQW",
      "include_colab_link": true
    },
    "kernelspec": {
      "name": "python3",
      "display_name": "Python 3"
    },
    "widgets": {
      "application/vnd.jupyter.widget-state+json": {
        "0929a7339811414383e2a581a08610f5": {
          "model_module": "@jupyter-widgets/controls",
          "model_name": "HBoxModel",
          "state": {
            "_view_name": "HBoxView",
            "_dom_classes": [],
            "_model_name": "HBoxModel",
            "_view_module": "@jupyter-widgets/controls",
            "_model_module_version": "1.5.0",
            "_view_count": null,
            "_view_module_version": "1.5.0",
            "box_style": "",
            "layout": "IPY_MODEL_99f00b072b87457898cdb35d1181a05e",
            "_model_module": "@jupyter-widgets/controls",
            "children": [
              "IPY_MODEL_ed74eca7af294af9b07632bbafda3573",
              "IPY_MODEL_6927144474f2453e9986c583499fab93"
            ]
          }
        },
        "99f00b072b87457898cdb35d1181a05e": {
          "model_module": "@jupyter-widgets/base",
          "model_name": "LayoutModel",
          "state": {
            "_view_name": "LayoutView",
            "grid_template_rows": null,
            "right": null,
            "justify_content": null,
            "_view_module": "@jupyter-widgets/base",
            "overflow": null,
            "_model_module_version": "1.2.0",
            "_view_count": null,
            "flex_flow": null,
            "width": null,
            "min_width": null,
            "border": null,
            "align_items": null,
            "bottom": null,
            "_model_module": "@jupyter-widgets/base",
            "top": null,
            "grid_column": null,
            "overflow_y": null,
            "overflow_x": null,
            "grid_auto_flow": null,
            "grid_area": null,
            "grid_template_columns": null,
            "flex": null,
            "_model_name": "LayoutModel",
            "justify_items": null,
            "grid_row": null,
            "max_height": null,
            "align_content": null,
            "visibility": null,
            "align_self": null,
            "height": null,
            "min_height": null,
            "padding": null,
            "grid_auto_rows": null,
            "grid_gap": null,
            "max_width": null,
            "order": null,
            "_view_module_version": "1.2.0",
            "grid_template_areas": null,
            "object_position": null,
            "object_fit": null,
            "grid_auto_columns": null,
            "margin": null,
            "display": null,
            "left": null
          }
        },
        "ed74eca7af294af9b07632bbafda3573": {
          "model_module": "@jupyter-widgets/controls",
          "model_name": "FloatProgressModel",
          "state": {
            "_view_name": "ProgressView",
            "style": "IPY_MODEL_3d20dde7fa894c059d9be39d5f377bbe",
            "_dom_classes": [],
            "description": "Computing transition probabilities: 100%",
            "_model_name": "FloatProgressModel",
            "bar_style": "success",
            "max": 1000,
            "_view_module": "@jupyter-widgets/controls",
            "_model_module_version": "1.5.0",
            "value": 1000,
            "_view_count": null,
            "_view_module_version": "1.5.0",
            "orientation": "horizontal",
            "min": 0,
            "description_tooltip": null,
            "_model_module": "@jupyter-widgets/controls",
            "layout": "IPY_MODEL_8fc0817bab9a4156b508b789b1cd1d13"
          }
        },
        "6927144474f2453e9986c583499fab93": {
          "model_module": "@jupyter-widgets/controls",
          "model_name": "HTMLModel",
          "state": {
            "_view_name": "HTMLView",
            "style": "IPY_MODEL_47351150876640f5bf5fd59887f975f1",
            "_dom_classes": [],
            "description": "",
            "_model_name": "HTMLModel",
            "placeholder": "​",
            "_view_module": "@jupyter-widgets/controls",
            "_model_module_version": "1.5.0",
            "value": " 1000/1000 [00:04&lt;00:00, 204.79it/s]",
            "_view_count": null,
            "_view_module_version": "1.5.0",
            "description_tooltip": null,
            "_model_module": "@jupyter-widgets/controls",
            "layout": "IPY_MODEL_d2d4cd01cd55446c8aab18d438e2080b"
          }
        },
        "3d20dde7fa894c059d9be39d5f377bbe": {
          "model_module": "@jupyter-widgets/controls",
          "model_name": "ProgressStyleModel",
          "state": {
            "_view_name": "StyleView",
            "_model_name": "ProgressStyleModel",
            "description_width": "initial",
            "_view_module": "@jupyter-widgets/base",
            "_model_module_version": "1.5.0",
            "_view_count": null,
            "_view_module_version": "1.2.0",
            "bar_color": null,
            "_model_module": "@jupyter-widgets/controls"
          }
        },
        "8fc0817bab9a4156b508b789b1cd1d13": {
          "model_module": "@jupyter-widgets/base",
          "model_name": "LayoutModel",
          "state": {
            "_view_name": "LayoutView",
            "grid_template_rows": null,
            "right": null,
            "justify_content": null,
            "_view_module": "@jupyter-widgets/base",
            "overflow": null,
            "_model_module_version": "1.2.0",
            "_view_count": null,
            "flex_flow": null,
            "width": null,
            "min_width": null,
            "border": null,
            "align_items": null,
            "bottom": null,
            "_model_module": "@jupyter-widgets/base",
            "top": null,
            "grid_column": null,
            "overflow_y": null,
            "overflow_x": null,
            "grid_auto_flow": null,
            "grid_area": null,
            "grid_template_columns": null,
            "flex": null,
            "_model_name": "LayoutModel",
            "justify_items": null,
            "grid_row": null,
            "max_height": null,
            "align_content": null,
            "visibility": null,
            "align_self": null,
            "height": null,
            "min_height": null,
            "padding": null,
            "grid_auto_rows": null,
            "grid_gap": null,
            "max_width": null,
            "order": null,
            "_view_module_version": "1.2.0",
            "grid_template_areas": null,
            "object_position": null,
            "object_fit": null,
            "grid_auto_columns": null,
            "margin": null,
            "display": null,
            "left": null
          }
        },
        "47351150876640f5bf5fd59887f975f1": {
          "model_module": "@jupyter-widgets/controls",
          "model_name": "DescriptionStyleModel",
          "state": {
            "_view_name": "StyleView",
            "_model_name": "DescriptionStyleModel",
            "description_width": "",
            "_view_module": "@jupyter-widgets/base",
            "_model_module_version": "1.5.0",
            "_view_count": null,
            "_view_module_version": "1.2.0",
            "_model_module": "@jupyter-widgets/controls"
          }
        },
        "d2d4cd01cd55446c8aab18d438e2080b": {
          "model_module": "@jupyter-widgets/base",
          "model_name": "LayoutModel",
          "state": {
            "_view_name": "LayoutView",
            "grid_template_rows": null,
            "right": null,
            "justify_content": null,
            "_view_module": "@jupyter-widgets/base",
            "overflow": null,
            "_model_module_version": "1.2.0",
            "_view_count": null,
            "flex_flow": null,
            "width": null,
            "min_width": null,
            "border": null,
            "align_items": null,
            "bottom": null,
            "_model_module": "@jupyter-widgets/base",
            "top": null,
            "grid_column": null,
            "overflow_y": null,
            "overflow_x": null,
            "grid_auto_flow": null,
            "grid_area": null,
            "grid_template_columns": null,
            "flex": null,
            "_model_name": "LayoutModel",
            "justify_items": null,
            "grid_row": null,
            "max_height": null,
            "align_content": null,
            "visibility": null,
            "align_self": null,
            "height": null,
            "min_height": null,
            "padding": null,
            "grid_auto_rows": null,
            "grid_gap": null,
            "max_width": null,
            "order": null,
            "_view_module_version": "1.2.0",
            "grid_template_areas": null,
            "object_position": null,
            "object_fit": null,
            "grid_auto_columns": null,
            "margin": null,
            "display": null,
            "left": null
          }
        }
      }
    }
  },
  "cells": [
    {
      "cell_type": "markdown",
      "metadata": {
        "id": "view-in-github",
        "colab_type": "text"
      },
      "source": [
        "<a href=\"https://colab.research.google.com/github/yonghoonlee-1/Graph-and-Networks-Analysis/blob/main/popularity_prediction.ipynb\" target=\"_parent\"><img src=\"https://colab.research.google.com/assets/colab-badge.svg\" alt=\"Open In Colab\"/></a>"
      ]
    },
    {
      "cell_type": "code",
      "metadata": {
        "colab": {
          "base_uri": "https://localhost:8080/"
        },
        "id": "LRSUEPuy26HF",
        "outputId": "f1ffa23f-75d8-46f3-aefc-fcb348f8afcc"
      },
      "source": [
        "from google.colab import drive\n",
        "drive.mount('/gdrive')\n",
        "!rm -rf /content/gdrive\n",
        "!ln -s \"/gdrive/My Drive\" /content/gdrive\n",
        "%cd /content/gdrive"
      ],
      "execution_count": null,
      "outputs": [
        {
          "output_type": "stream",
          "text": [
            "Mounted at /gdrive\n",
            "/gdrive/My Drive\n"
          ],
          "name": "stdout"
        }
      ]
    },
    {
      "cell_type": "code",
      "metadata": {
        "id": "6R7zXCfbH-dv"
      },
      "source": [
        "import numpy as np\n",
        "\n",
        "class_info = np.loadtxt('/content/gdrive/class_info.txt')\n",
        "edge_list = np.loadtxt('/content/gdrive/edge_list.txt')"
      ],
      "execution_count": null,
      "outputs": []
    },
    {
      "cell_type": "code",
      "metadata": {
        "colab": {
          "base_uri": "https://localhost:8080/"
        },
        "id": "0XTWRZSSIHc4",
        "outputId": "e95fca83-8f46-4308-9e3c-0881bcff34c5"
      },
      "source": [
        "print(class_info)"
      ],
      "execution_count": null,
      "outputs": [
        {
          "output_type": "stream",
          "text": [
            "[[   1.    0.]\n",
            " [   2.    0.]\n",
            " [   3.    0.]\n",
            " ...\n",
            " [ 998.    0.]\n",
            " [ 999.    1.]\n",
            " [1000.    0.]]\n"
          ],
          "name": "stdout"
        }
      ]
    },
    {
      "cell_type": "code",
      "metadata": {
        "colab": {
          "base_uri": "https://localhost:8080/"
        },
        "id": "fbuu36ZsIJo4",
        "outputId": "39f90330-949a-4971-f6a2-8e76c6a21a82"
      },
      "source": [
        "print(edge_list)"
      ],
      "execution_count": null,
      "outputs": [
        {
          "output_type": "stream",
          "text": [
            "[[411. 545.]\n",
            " [411. 838.]\n",
            " [411. 144.]\n",
            " ...\n",
            " [942. 821.]\n",
            " [782. 144.]\n",
            " [423.   3.]]\n"
          ],
          "name": "stdout"
        }
      ]
    },
    {
      "cell_type": "code",
      "metadata": {
        "colab": {
          "base_uri": "https://localhost:8080/"
        },
        "id": "y7jQiv3sAamO",
        "outputId": "ddb06dc3-7bc5-48f4-a722-73113c851a19"
      },
      "source": [
        "pip install node2vec"
      ],
      "execution_count": null,
      "outputs": [
        {
          "output_type": "stream",
          "text": [
            "Collecting node2vec\n",
            "  Downloading https://files.pythonhosted.org/packages/a8/d1/39df1d498a2ceb293e5f3d68f08212079e3bb9cc00cdd1941df57bd08ec9/node2vec-0.4.0.tar.gz\n",
            "Requirement already satisfied: networkx in /usr/local/lib/python3.6/dist-packages (from node2vec) (2.5)\n",
            "Requirement already satisfied: gensim in /usr/local/lib/python3.6/dist-packages (from node2vec) (3.6.0)\n",
            "Requirement already satisfied: numpy in /usr/local/lib/python3.6/dist-packages (from node2vec) (1.18.5)\n",
            "Requirement already satisfied: tqdm in /usr/local/lib/python3.6/dist-packages (from node2vec) (4.41.1)\n",
            "Requirement already satisfied: joblib>=0.13.2 in /usr/local/lib/python3.6/dist-packages (from node2vec) (0.17.0)\n",
            "Requirement already satisfied: decorator>=4.3.0 in /usr/local/lib/python3.6/dist-packages (from networkx->node2vec) (4.4.2)\n",
            "Requirement already satisfied: scipy>=0.18.1 in /usr/local/lib/python3.6/dist-packages (from gensim->node2vec) (1.4.1)\n",
            "Requirement already satisfied: smart-open>=1.2.1 in /usr/local/lib/python3.6/dist-packages (from gensim->node2vec) (4.0.1)\n",
            "Requirement already satisfied: six>=1.5.0 in /usr/local/lib/python3.6/dist-packages (from gensim->node2vec) (1.15.0)\n",
            "Building wheels for collected packages: node2vec\n",
            "  Building wheel for node2vec (setup.py) ... \u001b[?25l\u001b[?25hdone\n",
            "  Created wheel for node2vec: filename=node2vec-0.4.0-cp36-none-any.whl size=5729 sha256=01a1099156c198117178836467019e447bad4e39560f7dc1986e37d05d2f131e\n",
            "  Stored in directory: /root/.cache/pip/wheels/68/64/b9/599a860e730d0a4c633db99e5dcd8c4beee4ff9e3d5b3a011a\n",
            "Successfully built node2vec\n",
            "Installing collected packages: node2vec\n",
            "Successfully installed node2vec-0.4.0\n"
          ],
          "name": "stdout"
        }
      ]
    },
    {
      "cell_type": "code",
      "metadata": {
        "id": "iN8hqkG0IKQB"
      },
      "source": [
        "import networkx as nx\n",
        "from node2vec import Node2Vec\n",
        "\n",
        "G = nx.Graph()\n",
        "\n",
        "for i in range(1, 1001):\n",
        "    G.add_node(str(i))"
      ],
      "execution_count": null,
      "outputs": []
    },
    {
      "cell_type": "code",
      "metadata": {
        "id": "e3byiXHJIp2Y"
      },
      "source": [
        "for i in range(len(edge_list)):\n",
        "    G.add_edge(str(int(edge_list[i][0])), str(int(edge_list[i][1])))"
      ],
      "execution_count": null,
      "outputs": []
    },
    {
      "cell_type": "code",
      "metadata": {
        "colab": {
          "base_uri": "https://localhost:8080/"
        },
        "id": "S8oxe3imI9Jp",
        "outputId": "4947e27b-b39f-411b-88e4-b54e2e03c095"
      },
      "source": [
        "print(\"Number of Nodes : \", nx.number_of_nodes(G))"
      ],
      "execution_count": null,
      "outputs": [
        {
          "output_type": "stream",
          "text": [
            "Number of Nodes :  1000\n"
          ],
          "name": "stdout"
        }
      ]
    },
    {
      "cell_type": "code",
      "metadata": {
        "id": "pXftKs0YE8vz",
        "colab": {
          "base_uri": "https://localhost:8080/"
        },
        "outputId": "a312b1e5-d847-4641-9c44-e353351cab5d"
      },
      "source": [
        "print(\"Number of Edges : \", nx.number_of_edges(G))"
      ],
      "execution_count": null,
      "outputs": [
        {
          "output_type": "stream",
          "text": [
            "Number of Edges :  6821\n"
          ],
          "name": "stdout"
        }
      ]
    },
    {
      "cell_type": "code",
      "metadata": {
        "colab": {
          "base_uri": "https://localhost:8080/"
        },
        "id": "wqnkACvbI1EO",
        "outputId": "23468686-a012-4731-fa33-9febd9f05d50"
      },
      "source": [
        "G.nodes()"
      ],
      "execution_count": null,
      "outputs": [
        {
          "output_type": "execute_result",
          "data": {
            "text/plain": [
              "NodeView(('1', '2', '3', '4', '5', '6', '7', '8', '9', '10', '11', '12', '13', '14', '15', '16', '17', '18', '19', '20', '21', '22', '23', '24', '25', '26', '27', '28', '29', '30', '31', '32', '33', '34', '35', '36', '37', '38', '39', '40', '41', '42', '43', '44', '45', '46', '47', '48', '49', '50', '51', '52', '53', '54', '55', '56', '57', '58', '59', '60', '61', '62', '63', '64', '65', '66', '67', '68', '69', '70', '71', '72', '73', '74', '75', '76', '77', '78', '79', '80', '81', '82', '83', '84', '85', '86', '87', '88', '89', '90', '91', '92', '93', '94', '95', '96', '97', '98', '99', '100', '101', '102', '103', '104', '105', '106', '107', '108', '109', '110', '111', '112', '113', '114', '115', '116', '117', '118', '119', '120', '121', '122', '123', '124', '125', '126', '127', '128', '129', '130', '131', '132', '133', '134', '135', '136', '137', '138', '139', '140', '141', '142', '143', '144', '145', '146', '147', '148', '149', '150', '151', '152', '153', '154', '155', '156', '157', '158', '159', '160', '161', '162', '163', '164', '165', '166', '167', '168', '169', '170', '171', '172', '173', '174', '175', '176', '177', '178', '179', '180', '181', '182', '183', '184', '185', '186', '187', '188', '189', '190', '191', '192', '193', '194', '195', '196', '197', '198', '199', '200', '201', '202', '203', '204', '205', '206', '207', '208', '209', '210', '211', '212', '213', '214', '215', '216', '217', '218', '219', '220', '221', '222', '223', '224', '225', '226', '227', '228', '229', '230', '231', '232', '233', '234', '235', '236', '237', '238', '239', '240', '241', '242', '243', '244', '245', '246', '247', '248', '249', '250', '251', '252', '253', '254', '255', '256', '257', '258', '259', '260', '261', '262', '263', '264', '265', '266', '267', '268', '269', '270', '271', '272', '273', '274', '275', '276', '277', '278', '279', '280', '281', '282', '283', '284', '285', '286', '287', '288', '289', '290', '291', '292', '293', '294', '295', '296', '297', '298', '299', '300', '301', '302', '303', '304', '305', '306', '307', '308', '309', '310', '311', '312', '313', '314', '315', '316', '317', '318', '319', '320', '321', '322', '323', '324', '325', '326', '327', '328', '329', '330', '331', '332', '333', '334', '335', '336', '337', '338', '339', '340', '341', '342', '343', '344', '345', '346', '347', '348', '349', '350', '351', '352', '353', '354', '355', '356', '357', '358', '359', '360', '361', '362', '363', '364', '365', '366', '367', '368', '369', '370', '371', '372', '373', '374', '375', '376', '377', '378', '379', '380', '381', '382', '383', '384', '385', '386', '387', '388', '389', '390', '391', '392', '393', '394', '395', '396', '397', '398', '399', '400', '401', '402', '403', '404', '405', '406', '407', '408', '409', '410', '411', '412', '413', '414', '415', '416', '417', '418', '419', '420', '421', '422', '423', '424', '425', '426', '427', '428', '429', '430', '431', '432', '433', '434', '435', '436', '437', '438', '439', '440', '441', '442', '443', '444', '445', '446', '447', '448', '449', '450', '451', '452', '453', '454', '455', '456', '457', '458', '459', '460', '461', '462', '463', '464', '465', '466', '467', '468', '469', '470', '471', '472', '473', '474', '475', '476', '477', '478', '479', '480', '481', '482', '483', '484', '485', '486', '487', '488', '489', '490', '491', '492', '493', '494', '495', '496', '497', '498', '499', '500', '501', '502', '503', '504', '505', '506', '507', '508', '509', '510', '511', '512', '513', '514', '515', '516', '517', '518', '519', '520', '521', '522', '523', '524', '525', '526', '527', '528', '529', '530', '531', '532', '533', '534', '535', '536', '537', '538', '539', '540', '541', '542', '543', '544', '545', '546', '547', '548', '549', '550', '551', '552', '553', '554', '555', '556', '557', '558', '559', '560', '561', '562', '563', '564', '565', '566', '567', '568', '569', '570', '571', '572', '573', '574', '575', '576', '577', '578', '579', '580', '581', '582', '583', '584', '585', '586', '587', '588', '589', '590', '591', '592', '593', '594', '595', '596', '597', '598', '599', '600', '601', '602', '603', '604', '605', '606', '607', '608', '609', '610', '611', '612', '613', '614', '615', '616', '617', '618', '619', '620', '621', '622', '623', '624', '625', '626', '627', '628', '629', '630', '631', '632', '633', '634', '635', '636', '637', '638', '639', '640', '641', '642', '643', '644', '645', '646', '647', '648', '649', '650', '651', '652', '653', '654', '655', '656', '657', '658', '659', '660', '661', '662', '663', '664', '665', '666', '667', '668', '669', '670', '671', '672', '673', '674', '675', '676', '677', '678', '679', '680', '681', '682', '683', '684', '685', '686', '687', '688', '689', '690', '691', '692', '693', '694', '695', '696', '697', '698', '699', '700', '701', '702', '703', '704', '705', '706', '707', '708', '709', '710', '711', '712', '713', '714', '715', '716', '717', '718', '719', '720', '721', '722', '723', '724', '725', '726', '727', '728', '729', '730', '731', '732', '733', '734', '735', '736', '737', '738', '739', '740', '741', '742', '743', '744', '745', '746', '747', '748', '749', '750', '751', '752', '753', '754', '755', '756', '757', '758', '759', '760', '761', '762', '763', '764', '765', '766', '767', '768', '769', '770', '771', '772', '773', '774', '775', '776', '777', '778', '779', '780', '781', '782', '783', '784', '785', '786', '787', '788', '789', '790', '791', '792', '793', '794', '795', '796', '797', '798', '799', '800', '801', '802', '803', '804', '805', '806', '807', '808', '809', '810', '811', '812', '813', '814', '815', '816', '817', '818', '819', '820', '821', '822', '823', '824', '825', '826', '827', '828', '829', '830', '831', '832', '833', '834', '835', '836', '837', '838', '839', '840', '841', '842', '843', '844', '845', '846', '847', '848', '849', '850', '851', '852', '853', '854', '855', '856', '857', '858', '859', '860', '861', '862', '863', '864', '865', '866', '867', '868', '869', '870', '871', '872', '873', '874', '875', '876', '877', '878', '879', '880', '881', '882', '883', '884', '885', '886', '887', '888', '889', '890', '891', '892', '893', '894', '895', '896', '897', '898', '899', '900', '901', '902', '903', '904', '905', '906', '907', '908', '909', '910', '911', '912', '913', '914', '915', '916', '917', '918', '919', '920', '921', '922', '923', '924', '925', '926', '927', '928', '929', '930', '931', '932', '933', '934', '935', '936', '937', '938', '939', '940', '941', '942', '943', '944', '945', '946', '947', '948', '949', '950', '951', '952', '953', '954', '955', '956', '957', '958', '959', '960', '961', '962', '963', '964', '965', '966', '967', '968', '969', '970', '971', '972', '973', '974', '975', '976', '977', '978', '979', '980', '981', '982', '983', '984', '985', '986', '987', '988', '989', '990', '991', '992', '993', '994', '995', '996', '997', '998', '999', '1000'))"
            ]
          },
          "metadata": {
            "tags": []
          },
          "execution_count": 10
        }
      ]
    },
    {
      "cell_type": "code",
      "metadata": {
        "colab": {
          "base_uri": "https://localhost:8080/",
          "height": 66,
          "referenced_widgets": [
            "0929a7339811414383e2a581a08610f5",
            "99f00b072b87457898cdb35d1181a05e",
            "ed74eca7af294af9b07632bbafda3573",
            "6927144474f2453e9986c583499fab93",
            "3d20dde7fa894c059d9be39d5f377bbe",
            "8fc0817bab9a4156b508b789b1cd1d13",
            "47351150876640f5bf5fd59887f975f1",
            "d2d4cd01cd55446c8aab18d438e2080b"
          ]
        },
        "id": "rZYIOAm0FfNi",
        "outputId": "4d8a9c1e-073a-477f-ed89-58dca3773fcf"
      },
      "source": [
        "node2vec = Node2Vec(G, dimensions=50, walk_length=16, num_walks=100, workers=2)"
      ],
      "execution_count": null,
      "outputs": [
        {
          "output_type": "display_data",
          "data": {
            "application/vnd.jupyter.widget-view+json": {
              "model_id": "0929a7339811414383e2a581a08610f5",
              "version_minor": 0,
              "version_major": 2
            },
            "text/plain": [
              "HBox(children=(FloatProgress(value=0.0, description='Computing transition probabilities', max=1000.0, style=Pr…"
            ]
          },
          "metadata": {
            "tags": []
          }
        },
        {
          "output_type": "stream",
          "text": [
            "\n"
          ],
          "name": "stdout"
        }
      ]
    },
    {
      "cell_type": "code",
      "metadata": {
        "id": "Eg_YLHADFjNN"
      },
      "source": [
        "model = node2vec.fit(window=10, min_count=1)"
      ],
      "execution_count": null,
      "outputs": []
    },
    {
      "cell_type": "code",
      "metadata": {
        "colab": {
          "base_uri": "https://localhost:8080/"
        },
        "id": "nz73mmSi1z0f",
        "outputId": "13f9e064-9e4a-45f3-fa8b-42a81c6e8119"
      },
      "source": [
        "for node, _ in model.most_similar('6'):\n",
        "    print(node)"
      ],
      "execution_count": null,
      "outputs": [
        {
          "output_type": "stream",
          "text": [
            "942\n",
            "874\n",
            "501\n",
            "982\n",
            "27\n",
            "61\n",
            "146\n",
            "345\n",
            "31\n",
            "937\n"
          ],
          "name": "stdout"
        },
        {
          "output_type": "stream",
          "text": [
            "/usr/local/lib/python3.6/dist-packages/ipykernel_launcher.py:1: DeprecationWarning: Call to deprecated `most_similar` (Method will be removed in 4.0.0, use self.wv.most_similar() instead).\n",
            "  \"\"\"Entry point for launching an IPython kernel.\n",
            "/usr/local/lib/python3.6/dist-packages/gensim/matutils.py:737: FutureWarning: Conversion of the second argument of issubdtype from `int` to `np.signedinteger` is deprecated. In future, it will be treated as `np.int64 == np.dtype(int).type`.\n",
            "  if np.issubdtype(vec.dtype, np.int):\n"
          ],
          "name": "stderr"
        }
      ]
    },
    {
      "cell_type": "code",
      "metadata": {
        "colab": {
          "base_uri": "https://localhost:8080/"
        },
        "id": "lYqUAu5DFseM",
        "outputId": "a5712616-09f9-4b7a-c970-d42180c98d5d"
      },
      "source": [
        "for i in enumerate(model.wv.vocab):\n",
        "  print(i)"
      ],
      "execution_count": null,
      "outputs": [
        {
          "output_type": "stream",
          "text": [
            "(0, '598')\n",
            "(1, '238')\n",
            "(2, '397')\n",
            "(3, '144')\n",
            "(4, '72')\n",
            "(5, '600')\n",
            "(6, '625')\n",
            "(7, '14')\n",
            "(8, '415')\n",
            "(9, '870')\n",
            "(10, '717')\n",
            "(11, '439')\n",
            "(12, '90')\n",
            "(13, '352')\n",
            "(14, '933')\n",
            "(15, '456')\n",
            "(16, '282')\n",
            "(17, '831')\n",
            "(18, '991')\n",
            "(19, '688')\n",
            "(20, '673')\n",
            "(21, '164')\n",
            "(22, '634')\n",
            "(23, '287')\n",
            "(24, '268')\n",
            "(25, '544')\n",
            "(26, '538')\n",
            "(27, '751')\n",
            "(28, '354')\n",
            "(29, '848')\n",
            "(30, '491')\n",
            "(31, '273')\n",
            "(32, '987')\n",
            "(33, '838')\n",
            "(34, '299')\n",
            "(35, '545')\n",
            "(36, '800')\n",
            "(37, '946')\n",
            "(38, '753')\n",
            "(39, '332')\n",
            "(40, '907')\n",
            "(41, '542')\n",
            "(42, '575')\n",
            "(43, '351')\n",
            "(44, '480')\n",
            "(45, '836')\n",
            "(46, '369')\n",
            "(47, '801')\n",
            "(48, '1000')\n",
            "(49, '686')\n",
            "(50, '585')\n",
            "(51, '908')\n",
            "(52, '128')\n",
            "(53, '1')\n",
            "(54, '46')\n",
            "(55, '425')\n",
            "(56, '278')\n",
            "(57, '846')\n",
            "(58, '328')\n",
            "(59, '530')\n",
            "(60, '759')\n",
            "(61, '742')\n",
            "(62, '840')\n",
            "(63, '422')\n",
            "(64, '476')\n",
            "(65, '163')\n",
            "(66, '917')\n",
            "(67, '135')\n",
            "(68, '785')\n",
            "(69, '629')\n",
            "(70, '450')\n",
            "(71, '355')\n",
            "(72, '388')\n",
            "(73, '586')\n",
            "(74, '767')\n",
            "(75, '851')\n",
            "(76, '11')\n",
            "(77, '619')\n",
            "(78, '805')\n",
            "(79, '812')\n",
            "(80, '269')\n",
            "(81, '884')\n",
            "(82, '807')\n",
            "(83, '308')\n",
            "(84, '709')\n",
            "(85, '837')\n",
            "(86, '770')\n",
            "(87, '472')\n",
            "(88, '310')\n",
            "(89, '701')\n",
            "(90, '124')\n",
            "(91, '161')\n",
            "(92, '486')\n",
            "(93, '48')\n",
            "(94, '147')\n",
            "(95, '589')\n",
            "(96, '577')\n",
            "(97, '877')\n",
            "(98, '168')\n",
            "(99, '356')\n",
            "(100, '720')\n",
            "(101, '947')\n",
            "(102, '466')\n",
            "(103, '5')\n",
            "(104, '928')\n",
            "(105, '84')\n",
            "(106, '894')\n",
            "(107, '464')\n",
            "(108, '637')\n",
            "(109, '408')\n",
            "(110, '322')\n",
            "(111, '816')\n",
            "(112, '667')\n",
            "(113, '769')\n",
            "(114, '522')\n",
            "(115, '790')\n",
            "(116, '284')\n",
            "(117, '504')\n",
            "(118, '795')\n",
            "(119, '468')\n",
            "(120, '404')\n",
            "(121, '470')\n",
            "(122, '924')\n",
            "(123, '189')\n",
            "(124, '747')\n",
            "(125, '849')\n",
            "(126, '396')\n",
            "(127, '578')\n",
            "(128, '815')\n",
            "(129, '149')\n",
            "(130, '271')\n",
            "(131, '432')\n",
            "(132, '71')\n",
            "(133, '899')\n",
            "(134, '889')\n",
            "(135, '647')\n",
            "(136, '288')\n",
            "(137, '4')\n",
            "(138, '59')\n",
            "(139, '258')\n",
            "(140, '992')\n",
            "(141, '780')\n",
            "(142, '554')\n",
            "(143, '560')\n",
            "(144, '955')\n",
            "(145, '551')\n",
            "(146, '766')\n",
            "(147, '213')\n",
            "(148, '435')\n",
            "(149, '319')\n",
            "(150, '283')\n",
            "(151, '32')\n",
            "(152, '943')\n",
            "(153, '436')\n",
            "(154, '370')\n",
            "(155, '122')\n",
            "(156, '925')\n",
            "(157, '944')\n",
            "(158, '174')\n",
            "(159, '639')\n",
            "(160, '672')\n",
            "(161, '325')\n",
            "(162, '172')\n",
            "(163, '552')\n",
            "(164, '280')\n",
            "(165, '275')\n",
            "(166, '250')\n",
            "(167, '81')\n",
            "(168, '68')\n",
            "(169, '465')\n",
            "(170, '312')\n",
            "(171, '909')\n",
            "(172, '341')\n",
            "(173, '804')\n",
            "(174, '327')\n",
            "(175, '155')\n",
            "(176, '660')\n",
            "(177, '285')\n",
            "(178, '25')\n",
            "(179, '863')\n",
            "(180, '620')\n",
            "(181, '576')\n",
            "(182, '383')\n",
            "(183, '764')\n",
            "(184, '221')\n",
            "(185, '501')\n",
            "(186, '566')\n",
            "(187, '156')\n",
            "(188, '399')\n",
            "(189, '34')\n",
            "(190, '880')\n",
            "(191, '732')\n",
            "(192, '103')\n",
            "(193, '879')\n",
            "(194, '962')\n",
            "(195, '379')\n",
            "(196, '471')\n",
            "(197, '802')\n",
            "(198, '512')\n",
            "(199, '307')\n",
            "(200, '763')\n",
            "(201, '912')\n",
            "(202, '725')\n",
            "(203, '696')\n",
            "(204, '50')\n",
            "(205, '333')\n",
            "(206, '677')\n",
            "(207, '516')\n",
            "(208, '670')\n",
            "(209, '919')\n",
            "(210, '765')\n",
            "(211, '31')\n",
            "(212, '485')\n",
            "(213, '562')\n",
            "(214, '682')\n",
            "(215, '492')\n",
            "(216, '232')\n",
            "(217, '568')\n",
            "(218, '852')\n",
            "(219, '337')\n",
            "(220, '443')\n",
            "(221, '543')\n",
            "(222, '895')\n",
            "(223, '961')\n",
            "(224, '573')\n",
            "(225, '786')\n",
            "(226, '367')\n",
            "(227, '458')\n",
            "(228, '867')\n",
            "(229, '110')\n",
            "(230, '191')\n",
            "(231, '905')\n",
            "(232, '976')\n",
            "(233, '703')\n",
            "(234, '85')\n",
            "(235, '864')\n",
            "(236, '233')\n",
            "(237, '626')\n",
            "(238, '850')\n",
            "(239, '157')\n",
            "(240, '796')\n",
            "(241, '493')\n",
            "(242, '950')\n",
            "(243, '248')\n",
            "(244, '239')\n",
            "(245, '929')\n",
            "(246, '398')\n",
            "(247, '835')\n",
            "(248, '684')\n",
            "(249, '116')\n",
            "(250, '41')\n",
            "(251, '6')\n",
            "(252, '819')\n",
            "(253, '693')\n",
            "(254, '613')\n",
            "(255, '659')\n",
            "(256, '887')\n",
            "(257, '998')\n",
            "(258, '190')\n",
            "(259, '402')\n",
            "(260, '967')\n",
            "(261, '434')\n",
            "(262, '644')\n",
            "(263, '139')\n",
            "(264, '829')\n",
            "(265, '872')\n",
            "(266, '51')\n",
            "(267, '452')\n",
            "(268, '669')\n",
            "(269, '205')\n",
            "(270, '706')\n",
            "(271, '705')\n",
            "(272, '92')\n",
            "(273, '579')\n",
            "(274, '624')\n",
            "(275, '559')\n",
            "(276, '359')\n",
            "(277, '674')\n",
            "(278, '653')\n",
            "(279, '547')\n",
            "(280, '918')\n",
            "(281, '366')\n",
            "(282, '454')\n",
            "(283, '757')\n",
            "(284, '529')\n",
            "(285, '881')\n",
            "(286, '506')\n",
            "(287, '93')\n",
            "(288, '253')\n",
            "(289, '270')\n",
            "(290, '789')\n",
            "(291, '738')\n",
            "(292, '847')\n",
            "(293, '66')\n",
            "(294, '910')\n",
            "(295, '372')\n",
            "(296, '426')\n",
            "(297, '952')\n",
            "(298, '687')\n",
            "(299, '556')\n",
            "(300, '86')\n",
            "(301, '755')\n",
            "(302, '176')\n",
            "(303, '590')\n",
            "(304, '911')\n",
            "(305, '869')\n",
            "(306, '558')\n",
            "(307, '390')\n",
            "(308, '38')\n",
            "(309, '429')\n",
            "(310, '722')\n",
            "(311, '266')\n",
            "(312, '743')\n",
            "(313, '942')\n",
            "(314, '413')\n",
            "(315, '301')\n",
            "(316, '52')\n",
            "(317, '636')\n",
            "(318, '291')\n",
            "(319, '261')\n",
            "(320, '185')\n",
            "(321, '145')\n",
            "(322, '223')\n",
            "(323, '977')\n",
            "(324, '843')\n",
            "(325, '811')\n",
            "(326, '702')\n",
            "(327, '336')\n",
            "(328, '175')\n",
            "(329, '461')\n",
            "(330, '883')\n",
            "(331, '772')\n",
            "(332, '511')\n",
            "(333, '331')\n",
            "(334, '975')\n",
            "(335, '820')\n",
            "(336, '21')\n",
            "(337, '690')\n",
            "(338, '963')\n",
            "(339, '611')\n",
            "(340, '427')\n",
            "(341, '162')\n",
            "(342, '888')\n",
            "(343, '515')\n",
            "(344, '806')\n",
            "(345, '565')\n",
            "(346, '215')\n",
            "(347, '729')\n",
            "(348, '74')\n",
            "(349, '655')\n",
            "(350, '959')\n",
            "(351, '783')\n",
            "(352, '827')\n",
            "(353, '446')\n",
            "(354, '477')\n",
            "(355, '654')\n",
            "(356, '821')\n",
            "(357, '193')\n",
            "(358, '35')\n",
            "(359, '592')\n",
            "(360, '17')\n",
            "(361, '604')\n",
            "(362, '691')\n",
            "(363, '862')\n",
            "(364, '740')\n",
            "(365, '304')\n",
            "(366, '140')\n",
            "(367, '449')\n",
            "(368, '707')\n",
            "(369, '610')\n",
            "(370, '683')\n",
            "(371, '478')\n",
            "(372, '183')\n",
            "(373, '692')\n",
            "(374, '490')\n",
            "(375, '948')\n",
            "(376, '711')\n",
            "(377, '588')\n",
            "(378, '44')\n",
            "(379, '737')\n",
            "(380, '112')\n",
            "(381, '616')\n",
            "(382, '142')\n",
            "(383, '453')\n",
            "(384, '228')\n",
            "(385, '567')\n",
            "(386, '651')\n",
            "(387, '380')\n",
            "(388, '749')\n",
            "(389, '937')\n",
            "(390, '523')\n",
            "(391, '583')\n",
            "(392, '708')\n",
            "(393, '474')\n",
            "(394, '420')\n",
            "(395, '940')\n",
            "(396, '117')\n",
            "(397, '292')\n",
            "(398, '873')\n",
            "(399, '77')\n",
            "(400, '748')\n",
            "(401, '788')\n",
            "(402, '553')\n",
            "(403, '830')\n",
            "(404, '754')\n",
            "(405, '2')\n",
            "(406, '930')\n",
            "(407, '114')\n",
            "(408, '188')\n",
            "(409, '169')\n",
            "(410, '735')\n",
            "(411, '622')\n",
            "(412, '601')\n",
            "(413, '675')\n",
            "(414, '267')\n",
            "(415, '488')\n",
            "(416, '663')\n",
            "(417, '582')\n",
            "(418, '631')\n",
            "(419, '640')\n",
            "(420, '514')\n",
            "(421, '259')\n",
            "(422, '810')\n",
            "(423, '392')\n",
            "(424, '699')\n",
            "(425, '10')\n",
            "(426, '875')\n",
            "(427, '798')\n",
            "(428, '986')\n",
            "(429, '126')\n",
            "(430, '400')\n",
            "(431, '334')\n",
            "(432, '421')\n",
            "(433, '231')\n",
            "(434, '43')\n",
            "(435, '56')\n",
            "(436, '916')\n",
            "(437, '410')\n",
            "(438, '985')\n",
            "(439, '418')\n",
            "(440, '781')\n",
            "(441, '431')\n",
            "(442, '256')\n",
            "(443, '731')\n",
            "(444, '964')\n",
            "(445, '209')\n",
            "(446, '99')\n",
            "(447, '570')\n",
            "(448, '678')\n",
            "(449, '391')\n",
            "(450, '704')\n",
            "(451, '8')\n",
            "(452, '621')\n",
            "(453, '225')\n",
            "(454, '803')\n",
            "(455, '665')\n",
            "(456, '571')\n",
            "(457, '934')\n",
            "(458, '834')\n",
            "(459, '695')\n",
            "(460, '536')\n",
            "(461, '507')\n",
            "(462, '136')\n",
            "(463, '23')\n",
            "(464, '419')\n",
            "(465, '281')\n",
            "(466, '13')\n",
            "(467, '548')\n",
            "(468, '100')\n",
            "(469, '75')\n",
            "(470, '710')\n",
            "(471, '133')\n",
            "(472, '57')\n",
            "(473, '791')\n",
            "(474, '18')\n",
            "(475, '69')\n",
            "(476, '252')\n",
            "(477, '989')\n",
            "(478, '428')\n",
            "(479, '550')\n",
            "(480, '73')\n",
            "(481, '994')\n",
            "(482, '279')\n",
            "(483, '222')\n",
            "(484, '793')\n",
            "(485, '642')\n",
            "(486, '132')\n",
            "(487, '496')\n",
            "(488, '758')\n",
            "(489, '974')\n",
            "(490, '148')\n",
            "(491, '482')\n",
            "(492, '138')\n",
            "(493, '445')\n",
            "(494, '210')\n",
            "(495, '326')\n",
            "(496, '941')\n",
            "(497, '871')\n",
            "(498, '615')\n",
            "(499, '979')\n",
            "(500, '414')\n",
            "(501, '954')\n",
            "(502, '295')\n",
            "(503, '817')\n",
            "(504, '595')\n",
            "(505, '206')\n",
            "(506, '376')\n",
            "(507, '723')\n",
            "(508, '957')\n",
            "(509, '689')\n",
            "(510, '958')\n",
            "(511, '926')\n",
            "(512, '563')\n",
            "(513, '784')\n",
            "(514, '866')\n",
            "(515, '83')\n",
            "(516, '297')\n",
            "(517, '892')\n",
            "(518, '216')\n",
            "(519, '12')\n",
            "(520, '386')\n",
            "(521, '481')\n",
            "(522, '997')\n",
            "(523, '594')\n",
            "(524, '108')\n",
            "(525, '467')\n",
            "(526, '137')\n",
            "(527, '517')\n",
            "(528, '412')\n",
            "(529, '187')\n",
            "(530, '315')\n",
            "(531, '289')\n",
            "(532, '774')\n",
            "(533, '727')\n",
            "(534, '54')\n",
            "(535, '177')\n",
            "(536, '340')\n",
            "(537, '350')\n",
            "(538, '920')\n",
            "(539, '88')\n",
            "(540, '152')\n",
            "(541, '612')\n",
            "(542, '53')\n",
            "(543, '526')\n",
            "(544, '525')\n",
            "(545, '921')\n",
            "(546, '349')\n",
            "(547, '718')\n",
            "(548, '936')\n",
            "(549, '752')\n",
            "(550, '242')\n",
            "(551, '891')\n",
            "(552, '58')\n",
            "(553, '444')\n",
            "(554, '609')\n",
            "(555, '539')\n",
            "(556, '106')\n",
            "(557, '448')\n",
            "(558, '809')\n",
            "(559, '715')\n",
            "(560, '680')\n",
            "(561, '105')\n",
            "(562, '638')\n",
            "(563, '503')\n",
            "(564, '121')\n",
            "(565, '217')\n",
            "(566, '822')\n",
            "(567, '878')\n",
            "(568, '424')\n",
            "(569, '856')\n",
            "(570, '79')\n",
            "(571, '178')\n",
            "(572, '42')\n",
            "(573, '87')\n",
            "(574, '535')\n",
            "(575, '134')\n",
            "(576, '778')\n",
            "(577, '306')\n",
            "(578, '197')\n",
            "(579, '300')\n",
            "(580, '799')\n",
            "(581, '219')\n",
            "(582, '534')\n",
            "(583, '635')\n",
            "(584, '951')\n",
            "(585, '62')\n",
            "(586, '95')\n",
            "(587, '165')\n",
            "(588, '314')\n",
            "(589, '897')\n",
            "(590, '666')\n",
            "(591, '229')\n",
            "(592, '904')\n",
            "(593, '813')\n",
            "(594, '153')\n",
            "(595, '37')\n",
            "(596, '839')\n",
            "(597, '64')\n",
            "(598, '661')\n",
            "(599, '403')\n",
            "(600, '3')\n",
            "(601, '509')\n",
            "(602, '652')\n",
            "(603, '527')\n",
            "(604, '111')\n",
            "(605, '532')\n",
            "(606, '712')\n",
            "(607, '76')\n",
            "(608, '29')\n",
            "(609, '180')\n",
            "(610, '922')\n",
            "(611, '999')\n",
            "(612, '741')\n",
            "(613, '345')\n",
            "(614, '572')\n",
            "(615, '777')\n",
            "(616, '473')\n",
            "(617, '274')\n",
            "(618, '373')\n",
            "(619, '129')\n",
            "(620, '39')\n",
            "(621, '745')\n",
            "(622, '555')\n",
            "(623, '214')\n",
            "(624, '760')\n",
            "(625, '694')\n",
            "(626, '768')\n",
            "(627, '348')\n",
            "(628, '508')\n",
            "(629, '779')\n",
            "(630, '335')\n",
            "(631, '739')\n",
            "(632, '983')\n",
            "(633, '632')\n",
            "(634, '599')\n",
            "(635, '130')\n",
            "(636, '546')\n",
            "(637, '797')\n",
            "(638, '318')\n",
            "(639, '199')\n",
            "(640, '171')\n",
            "(641, '860')\n",
            "(642, '913')\n",
            "(643, '433')\n",
            "(644, '658')\n",
            "(645, '518')\n",
            "(646, '309')\n",
            "(647, '251')\n",
            "(648, '728')\n",
            "(649, '953')\n",
            "(650, '966')\n",
            "(651, '494')\n",
            "(652, '102')\n",
            "(653, '716')\n",
            "(654, '27')\n",
            "(655, '235')\n",
            "(656, '593')\n",
            "(657, '713')\n",
            "(658, '179')\n",
            "(659, '347')\n",
            "(660, '204')\n",
            "(661, '719')\n",
            "(662, '972')\n",
            "(663, '411')\n",
            "(664, '623')\n",
            "(665, '303')\n",
            "(666, '26')\n",
            "(667, '818')\n",
            "(668, '321')\n",
            "(669, '521')\n",
            "(670, '194')\n",
            "(671, '773')\n",
            "(672, '459')\n",
            "(673, '96')\n",
            "(674, '416')\n",
            "(675, '324')\n",
            "(676, '170')\n",
            "(677, '243')\n",
            "(678, '118')\n",
            "(679, '981')\n",
            "(680, '842')\n",
            "(681, '22')\n",
            "(682, '342')\n",
            "(683, '721')\n",
            "(684, '97')\n",
            "(685, '505')\n",
            "(686, '196')\n",
            "(687, '825')\n",
            "(688, '247')\n",
            "(689, '984')\n",
            "(690, '293')\n",
            "(691, '47')\n",
            "(692, '627')\n",
            "(693, '393')\n",
            "(694, '591')\n",
            "(695, '528')\n",
            "(696, '143')\n",
            "(697, '123')\n",
            "(698, '602')\n",
            "(699, '561')\n",
            "(700, '30')\n",
            "(701, '78')\n",
            "(702, '859')\n",
            "(703, '198')\n",
            "(704, '500')\n",
            "(705, '824')\n",
            "(706, '364')\n",
            "(707, '906')\n",
            "(708, '520')\n",
            "(709, '776')\n",
            "(710, '249')\n",
            "(711, '127')\n",
            "(712, '606')\n",
            "(713, '608')\n",
            "(714, '40')\n",
            "(715, '733')\n",
            "(716, '241')\n",
            "(717, '581')\n",
            "(718, '645')\n",
            "(719, '67')\n",
            "(720, '173')\n",
            "(721, '317')\n",
            "(722, '311')\n",
            "(723, '914')\n",
            "(724, '150')\n",
            "(725, '451')\n",
            "(726, '294')\n",
            "(727, '154')\n",
            "(728, '945')\n",
            "(729, '166')\n",
            "(730, '339')\n",
            "(731, '662')\n",
            "(732, '519')\n",
            "(733, '861')\n",
            "(734, '323')\n",
            "(735, '272')\n",
            "(736, '192')\n",
            "(737, '455')\n",
            "(738, '698')\n",
            "(739, '607')\n",
            "(740, '49')\n",
            "(741, '277')\n",
            "(742, '159')\n",
            "(743, '226')\n",
            "(744, '246')\n",
            "(745, '15')\n",
            "(746, '630')\n",
            "(747, '931')\n",
            "(748, '524')\n",
            "(749, '714')\n",
            "(750, '564')\n",
            "(751, '882')\n",
            "(752, '900')\n",
            "(753, '113')\n",
            "(754, '876')\n",
            "(755, '203')\n",
            "(756, '254')\n",
            "(757, '224')\n",
            "(758, '902')\n",
            "(759, '264')\n",
            "(760, '60')\n",
            "(761, '63')\n",
            "(762, '109')\n",
            "(763, '499')\n",
            "(764, '211')\n",
            "(765, '195')\n",
            "(766, '808')\n",
            "(767, '263')\n",
            "(768, '182')\n",
            "(769, '868')\n",
            "(770, '874')\n",
            "(771, '995')\n",
            "(772, '898')\n",
            "(773, '664')\n",
            "(774, '915')\n",
            "(775, '230')\n",
            "(776, '371')\n",
            "(777, '394')\n",
            "(778, '387')\n",
            "(779, '885')\n",
            "(780, '290')\n",
            "(781, '814')\n",
            "(782, '107')\n",
            "(783, '893')\n",
            "(784, '463')\n",
            "(785, '927')\n",
            "(786, '935')\n",
            "(787, '368')\n",
            "(788, '487')\n",
            "(789, '442')\n",
            "(790, '956')\n",
            "(791, '697')\n",
            "(792, '236')\n",
            "(793, '457')\n",
            "(794, '761')\n",
            "(795, '537')\n",
            "(796, '45')\n",
            "(797, '447')\n",
            "(798, '618')\n",
            "(799, '736')\n",
            "(800, '502')\n",
            "(801, '469')\n",
            "(802, '965')\n",
            "(803, '903')\n",
            "(804, '343')\n",
            "(805, '360')\n",
            "(806, '61')\n",
            "(807, '375')\n",
            "(808, '378')\n",
            "(809, '286')\n",
            "(810, '787')\n",
            "(811, '823')\n",
            "(812, '865')\n",
            "(813, '756')\n",
            "(814, '167')\n",
            "(815, '949')\n",
            "(816, '296')\n",
            "(817, '489')\n",
            "(818, '262')\n",
            "(819, '160')\n",
            "(820, '265')\n",
            "(821, '939')\n",
            "(822, '650')\n",
            "(823, '298')\n",
            "(824, '406')\n",
            "(825, '94')\n",
            "(826, '960')\n",
            "(827, '746')\n",
            "(828, '115')\n",
            "(829, '833')\n",
            "(830, '724')\n",
            "(831, '363')\n",
            "(832, '329')\n",
            "(833, '971')\n",
            "(834, '648')\n",
            "(835, '656')\n",
            "(836, '240')\n",
            "(837, '374')\n",
            "(838, '901')\n",
            "(839, '377')\n",
            "(840, '338')\n",
            "(841, '584')\n",
            "(842, '257')\n",
            "(843, '973')\n",
            "(844, '462')\n",
            "(845, '125')\n",
            "(846, '649')\n",
            "(847, '923')\n",
            "(848, '597')\n",
            "(849, '557')\n",
            "(850, '886')\n",
            "(851, '357')\n",
            "(852, '344')\n",
            "(853, '141')\n",
            "(854, '276')\n",
            "(855, '186')\n",
            "(856, '541')\n",
            "(857, '596')\n",
            "(858, '430')\n",
            "(859, '302')\n",
            "(860, '212')\n",
            "(861, '362')\n",
            "(862, '237')\n",
            "(863, '184')\n",
            "(864, '437')\n",
            "(865, '82')\n",
            "(866, '531')\n",
            "(867, '603')\n",
            "(868, '440')\n",
            "(869, '28')\n",
            "(870, '91')\n",
            "(871, '260')\n",
            "(872, '510')\n",
            "(873, '9')\n",
            "(874, '330')\n",
            "(875, '980')\n",
            "(876, '181')\n",
            "(877, '255')\n",
            "(878, '700')\n",
            "(879, '475')\n",
            "(880, '782')\n",
            "(881, '730')\n",
            "(882, '853')\n",
            "(883, '346')\n",
            "(884, '646')\n",
            "(885, '574')\n",
            "(886, '220')\n",
            "(887, '932')\n",
            "(888, '857')\n",
            "(889, '460')\n",
            "(890, '36')\n",
            "(891, '484')\n",
            "(892, '978')\n",
            "(893, '762')\n",
            "(894, '685')\n",
            "(895, '417')\n",
            "(896, '569')\n",
            "(897, '208')\n",
            "(898, '146')\n",
            "(899, '744')\n",
            "(900, '305')\n",
            "(901, '794')\n",
            "(902, '381')\n",
            "(903, '104')\n",
            "(904, '750')\n",
            "(905, '540')\n",
            "(906, '896')\n",
            "(907, '7')\n",
            "(908, '218')\n",
            "(909, '401')\n",
            "(910, '681')\n",
            "(911, '614')\n",
            "(912, '20')\n",
            "(913, '200')\n",
            "(914, '483')\n",
            "(915, '982')\n",
            "(916, '33')\n",
            "(917, '938')\n",
            "(918, '320')\n",
            "(919, '628')\n",
            "(920, '65')\n",
            "(921, '844')\n",
            "(922, '313')\n",
            "(923, '423')\n",
            "(924, '657')\n",
            "(925, '358')\n",
            "(926, '771')\n",
            "(927, '993')\n",
            "(928, '841')\n",
            "(929, '617')\n",
            "(930, '234')\n",
            "(931, '479')\n",
            "(932, '679')\n",
            "(933, '395')\n",
            "(934, '89')\n",
            "(935, '158')\n",
            "(936, '970')\n",
            "(937, '855')\n",
            "(938, '244')\n",
            "(939, '726')\n",
            "(940, '19')\n",
            "(941, '996')\n",
            "(942, '676')\n",
            "(943, '826')\n",
            "(944, '643')\n",
            "(945, '131')\n",
            "(946, '382')\n",
            "(947, '16')\n",
            "(948, '227')\n",
            "(949, '990')\n",
            "(950, '633')\n",
            "(951, '495')\n",
            "(952, '775')\n",
            "(953, '119')\n",
            "(954, '828')\n",
            "(955, '389')\n",
            "(956, '207')\n",
            "(957, '441')\n",
            "(958, '671')\n",
            "(959, '24')\n",
            "(960, '549')\n",
            "(961, '55')\n",
            "(962, '353')\n",
            "(963, '101')\n",
            "(964, '668')\n",
            "(965, '316')\n",
            "(966, '513')\n",
            "(967, '407')\n",
            "(968, '988')\n",
            "(969, '361')\n",
            "(970, '890')\n",
            "(971, '587')\n",
            "(972, '497')\n",
            "(973, '365')\n",
            "(974, '98')\n",
            "(975, '201')\n",
            "(976, '202')\n",
            "(977, '832')\n",
            "(978, '854')\n",
            "(979, '969')\n",
            "(980, '409')\n",
            "(981, '438')\n",
            "(982, '605')\n",
            "(983, '734')\n",
            "(984, '580')\n",
            "(985, '70')\n",
            "(986, '845')\n",
            "(987, '80')\n",
            "(988, '120')\n",
            "(989, '792')\n",
            "(990, '533')\n",
            "(991, '641')\n",
            "(992, '968')\n",
            "(993, '405')\n",
            "(994, '384')\n",
            "(995, '245')\n",
            "(996, '498')\n",
            "(997, '385')\n",
            "(998, '151')\n",
            "(999, '858')\n"
          ],
          "name": "stdout"
        }
      ]
    },
    {
      "cell_type": "code",
      "metadata": {
        "id": "oft4aANdFy5m"
      },
      "source": [
        "embeddings = np.array([model.wv[x] for x in G.nodes()])"
      ],
      "execution_count": null,
      "outputs": []
    },
    {
      "cell_type": "code",
      "metadata": {
        "colab": {
          "base_uri": "https://localhost:8080/"
        },
        "id": "48QcXqJfNplP",
        "outputId": "9158b18a-02a6-4680-8237-2c01e1bb43bd"
      },
      "source": [
        "embeddings[0]"
      ],
      "execution_count": null,
      "outputs": [
        {
          "output_type": "execute_result",
          "data": {
            "text/plain": [
              "array([-1.3662302 ,  0.64186174,  0.7066973 ,  0.6740783 , -0.46378464,\n",
              "       -0.671847  ,  0.1804852 ,  1.0216119 ,  1.8648512 , -1.7315998 ,\n",
              "        0.6063655 , -0.24417485, -0.4941088 ,  1.1060463 , -1.4236346 ,\n",
              "        1.7215463 , -0.03180356, -1.7289431 ,  1.4170915 ,  0.12475399,\n",
              "       -0.43824393,  1.7213844 , -1.4014282 ,  0.36821777,  0.58135873,\n",
              "       -1.5673398 , -0.19013628,  0.7286083 , -1.7594006 , -1.2201906 ,\n",
              "       -1.799435  , -1.2584752 , -0.75913453,  0.17016853, -1.6604791 ,\n",
              "       -1.5846109 ,  1.1865467 , -0.3774186 , -1.1834745 , -1.264107  ,\n",
              "        0.40730008,  0.3493626 ,  0.65821   , -0.4808393 ,  0.78264195,\n",
              "       -0.5425674 , -1.4345397 , -0.3163706 , -1.4679469 , -1.0910413 ],\n",
              "      dtype=float32)"
            ]
          },
          "metadata": {
            "tags": []
          },
          "execution_count": 16
        }
      ]
    },
    {
      "cell_type": "code",
      "metadata": {
        "colab": {
          "base_uri": "https://localhost:8080/"
        },
        "id": "NoPrUVWINsJ-",
        "outputId": "8e64aabc-292f-4958-c193-0d324a20382f"
      },
      "source": [
        "embeddings[999]"
      ],
      "execution_count": null,
      "outputs": [
        {
          "output_type": "execute_result",
          "data": {
            "text/plain": [
              "array([-1.1292435 , -0.32597834, -0.57567906,  0.21491702,  0.16022459,\n",
              "        0.12471286,  2.720416  , -0.18788904,  2.930375  , -1.0764867 ,\n",
              "       -1.9213643 , -1.6688936 ,  0.09228498,  2.280279  , -0.38299143,\n",
              "        0.07026184,  0.41173238, -1.5007651 , -3.0956924 ,  0.44493273,\n",
              "        2.5716863 , -0.2894061 , -1.0304661 ,  2.0928845 , -0.0710726 ,\n",
              "       -1.7062846 , -0.09385163, -0.10065977, -0.10619459,  1.273177  ,\n",
              "       -0.9860927 ,  0.8172613 , -2.2096796 , -2.2214463 ,  2.4076068 ,\n",
              "       -0.6592381 ,  0.55493724, -1.7407883 ,  0.27092624, -0.2877807 ,\n",
              "       -1.074796  ,  1.5971209 , -1.9145766 ,  2.3993814 ,  0.42618823,\n",
              "        0.9631849 , -1.0022726 ,  1.3943774 , -0.50127107,  0.01237984],\n",
              "      dtype=float32)"
            ]
          },
          "metadata": {
            "tags": []
          },
          "execution_count": 17
        }
      ]
    },
    {
      "cell_type": "code",
      "metadata": {
        "id": "osDKHd6bMeV3"
      },
      "source": [
        "from numpy import zeros\n",
        "\n",
        "embedding_matrix = zeros((1001, 50))"
      ],
      "execution_count": null,
      "outputs": []
    },
    {
      "cell_type": "code",
      "metadata": {
        "id": "qG98K1gFN7LX"
      },
      "source": [
        "for i in range(1, 1001):\n",
        "  embedding_matrix[i] = embeddings[i-1]"
      ],
      "execution_count": null,
      "outputs": []
    },
    {
      "cell_type": "code",
      "metadata": {
        "colab": {
          "base_uri": "https://localhost:8080/"
        },
        "id": "xFSx6GWUNwT6",
        "outputId": "9391c2f5-e516-4ae4-cb97-235f8dddbd99"
      },
      "source": [
        "embedding_matrix[1]"
      ],
      "execution_count": null,
      "outputs": [
        {
          "output_type": "execute_result",
          "data": {
            "text/plain": [
              "array([-1.36623025,  0.64186174,  0.70669729,  0.67407829, -0.46378464,\n",
              "       -0.67184699,  0.1804852 ,  1.02161193,  1.86485124, -1.73159981,\n",
              "        0.6063655 , -0.24417485, -0.4941088 ,  1.10604632, -1.42363465,\n",
              "        1.72154629, -0.03180356, -1.72894311,  1.41709149,  0.12475399,\n",
              "       -0.43824393,  1.72138441, -1.40142822,  0.36821777,  0.58135873,\n",
              "       -1.56733978, -0.19013628,  0.72860831, -1.75940061, -1.22019064,\n",
              "       -1.79943502, -1.25847518, -0.75913453,  0.17016853, -1.66047907,\n",
              "       -1.58461094,  1.18654668, -0.37741861, -1.18347454, -1.26410699,\n",
              "        0.40730008,  0.34936261,  0.65820998, -0.48083931,  0.78264195,\n",
              "       -0.54256737, -1.43453968, -0.31637061, -1.46794689, -1.09104133])"
            ]
          },
          "metadata": {
            "tags": []
          },
          "execution_count": 20
        }
      ]
    },
    {
      "cell_type": "code",
      "metadata": {
        "colab": {
          "base_uri": "https://localhost:8080/"
        },
        "id": "dtJ1bBHtAGjY",
        "outputId": "c91a1c6e-b000-4759-a8f3-140369ea5322"
      },
      "source": [
        "embedding_matrix[1000]"
      ],
      "execution_count": null,
      "outputs": [
        {
          "output_type": "execute_result",
          "data": {
            "text/plain": [
              "array([-1.12924349, -0.32597834, -0.57567906,  0.21491702,  0.16022459,\n",
              "        0.12471286,  2.72041607, -0.18788904,  2.9303751 , -1.07648671,\n",
              "       -1.92136431, -1.66889358,  0.09228498,  2.28027892, -0.38299143,\n",
              "        0.07026184,  0.41173238, -1.50076509, -3.0956924 ,  0.44493273,\n",
              "        2.57168627, -0.28940609, -1.03046608,  2.09288454, -0.0710726 ,\n",
              "       -1.70628464, -0.09385163, -0.10065977, -0.10619459,  1.27317703,\n",
              "       -0.98609269,  0.81726128, -2.2096796 , -2.22144628,  2.40760684,\n",
              "       -0.6592381 ,  0.55493724, -1.74078834,  0.27092624, -0.2877807 ,\n",
              "       -1.07479596,  1.59712088, -1.91457665,  2.3993814 ,  0.42618823,\n",
              "        0.96318489, -1.00227261,  1.39437735, -0.50127107,  0.01237984])"
            ]
          },
          "metadata": {
            "tags": []
          },
          "execution_count": 21
        }
      ]
    },
    {
      "cell_type": "code",
      "metadata": {
        "id": "K6P1e6RrAhwy"
      },
      "source": [
        "popular = []\n",
        "un_popular = []\n",
        "unknown = []\n",
        "train = []\n",
        "train_label = []\n",
        "test = []\n",
        "\n",
        "for i in range(len(class_info)):\n",
        "    if class_info[i][1]== 1:\n",
        "        popular.append(str(i+1))\n",
        "        train.append(i+1)\n",
        "        train_label.append(1)\n",
        "    elif class_info[i][1]== -1:\n",
        "        un_popular.append(str(i+1))\n",
        "        train.append(i+1)\n",
        "        train_label.append(0)\n",
        "    else:\n",
        "        unknown.append(str(i+1))\n",
        "        test.append(i+1)"
      ],
      "execution_count": null,
      "outputs": []
    },
    {
      "cell_type": "code",
      "metadata": {
        "id": "UEDrSNoMOo9z"
      },
      "source": [
        "train = np.array(train)"
      ],
      "execution_count": null,
      "outputs": []
    },
    {
      "cell_type": "code",
      "metadata": {
        "id": "rFqWzJyeDag1"
      },
      "source": [
        "test = np.array(test)"
      ],
      "execution_count": null,
      "outputs": []
    },
    {
      "cell_type": "code",
      "metadata": {
        "colab": {
          "base_uri": "https://localhost:8080/"
        },
        "id": "LDDz3u_HMOBl",
        "outputId": "33fab12a-4ec0-4a2c-8ec4-62cd79b8f2b7"
      },
      "source": [
        "print(train)"
      ],
      "execution_count": null,
      "outputs": [
        {
          "output_type": "stream",
          "text": [
            "[  6   7   9  15  16  17  19  26  31  33  36  38  41  54  62  63  71  73\n",
            "  84  88  89  97 101 103 112 115 117 118 120 122 136 141 150 155 162 163\n",
            " 165 170 173 174 183 192 194 198 205 212 213 215 220 229 231 235 236 240\n",
            " 242 243 260 261 269 277 279 284 288 289 300 312 324 326 330 331 333 351\n",
            " 354 358 363 372 373 374 375 377 386 389 409 410 415 419 420 421 423 431\n",
            " 438 445 448 450 452 453 454 460 464 467 468 470 482 486 492 494 501 505\n",
            " 514 517 518 527 528 530 535 538 539 541 543 544 549 566 572 573 579 580\n",
            " 583 586 601 605 609 610 614 616 627 633 637 642 643 656 681 682 683 684\n",
            " 685 687 693 705 715 722 728 740 746 757 758 759 760 763 767 769 774 796\n",
            " 807 824 826 834 836 850 853 857 858 860 863 865 878 890 893 895 897 901\n",
            " 909 910 911 912 916 926 928 942 947 951 955 971 972 973 975 977 981 990\n",
            " 997 999]\n"
          ],
          "name": "stdout"
        }
      ]
    },
    {
      "cell_type": "code",
      "metadata": {
        "colab": {
          "base_uri": "https://localhost:8080/"
        },
        "id": "SwomBeZtDdxR",
        "outputId": "cb510a36-0b1a-4bbd-e26a-6ca767e53b22"
      },
      "source": [
        "print(test)"
      ],
      "execution_count": null,
      "outputs": [
        {
          "output_type": "stream",
          "text": [
            "[   1    2    3    4    5    8   10   11   12   13   14   18   20   21\n",
            "   22   23   24   25   27   28   29   30   32   34   35   37   39   40\n",
            "   42   43   44   45   46   47   48   49   50   51   52   53   55   56\n",
            "   57   58   59   60   61   64   65   66   67   68   69   70   72   74\n",
            "   75   76   77   78   79   80   81   82   83   85   86   87   90   91\n",
            "   92   93   94   95   96   98   99  100  102  104  105  106  107  108\n",
            "  109  110  111  113  114  116  119  121  123  124  125  126  127  128\n",
            "  129  130  131  132  133  134  135  137  138  139  140  142  143  144\n",
            "  145  146  147  148  149  151  152  153  154  156  157  158  159  160\n",
            "  161  164  166  167  168  169  171  172  175  176  177  178  179  180\n",
            "  181  182  184  185  186  187  188  189  190  191  193  195  196  197\n",
            "  199  200  201  202  203  204  206  207  208  209  210  211  214  216\n",
            "  217  218  219  221  222  223  224  225  226  227  228  230  232  233\n",
            "  234  237  238  239  241  244  245  246  247  248  249  250  251  252\n",
            "  253  254  255  256  257  258  259  262  263  264  265  266  267  268\n",
            "  270  271  272  273  274  275  276  278  280  281  282  283  285  286\n",
            "  287  290  291  292  293  294  295  296  297  298  299  301  302  303\n",
            "  304  305  306  307  308  309  310  311  313  314  315  316  317  318\n",
            "  319  320  321  322  323  325  327  328  329  332  334  335  336  337\n",
            "  338  339  340  341  342  343  344  345  346  347  348  349  350  352\n",
            "  353  355  356  357  359  360  361  362  364  365  366  367  368  369\n",
            "  370  371  376  378  379  380  381  382  383  384  385  387  388  390\n",
            "  391  392  393  394  395  396  397  398  399  400  401  402  403  404\n",
            "  405  406  407  408  411  412  413  414  416  417  418  422  424  425\n",
            "  426  427  428  429  430  432  433  434  435  436  437  439  440  441\n",
            "  442  443  444  446  447  449  451  455  456  457  458  459  461  462\n",
            "  463  465  466  469  471  472  473  474  475  476  477  478  479  480\n",
            "  481  483  484  485  487  488  489  490  491  493  495  496  497  498\n",
            "  499  500  502  503  504  506  507  508  509  510  511  512  513  515\n",
            "  516  519  520  521  522  523  524  525  526  529  531  532  533  534\n",
            "  536  537  540  542  545  546  547  548  550  551  552  553  554  555\n",
            "  556  557  558  559  560  561  562  563  564  565  567  568  569  570\n",
            "  571  574  575  576  577  578  581  582  584  585  587  588  589  590\n",
            "  591  592  593  594  595  596  597  598  599  600  602  603  604  606\n",
            "  607  608  611  612  613  615  617  618  619  620  621  622  623  624\n",
            "  625  626  628  629  630  631  632  634  635  636  638  639  640  641\n",
            "  644  645  646  647  648  649  650  651  652  653  654  655  657  658\n",
            "  659  660  661  662  663  664  665  666  667  668  669  670  671  672\n",
            "  673  674  675  676  677  678  679  680  686  688  689  690  691  692\n",
            "  694  695  696  697  698  699  700  701  702  703  704  706  707  708\n",
            "  709  710  711  712  713  714  716  717  718  719  720  721  723  724\n",
            "  725  726  727  729  730  731  732  733  734  735  736  737  738  739\n",
            "  741  742  743  744  745  747  748  749  750  751  752  753  754  755\n",
            "  756  761  762  764  765  766  768  770  771  772  773  775  776  777\n",
            "  778  779  780  781  782  783  784  785  786  787  788  789  790  791\n",
            "  792  793  794  795  797  798  799  800  801  802  803  804  805  806\n",
            "  808  809  810  811  812  813  814  815  816  817  818  819  820  821\n",
            "  822  823  825  827  828  829  830  831  832  833  835  837  838  839\n",
            "  840  841  842  843  844  845  846  847  848  849  851  852  854  855\n",
            "  856  859  861  862  864  866  867  868  869  870  871  872  873  874\n",
            "  875  876  877  879  880  881  882  883  884  885  886  887  888  889\n",
            "  891  892  894  896  898  899  900  902  903  904  905  906  907  908\n",
            "  913  914  915  917  918  919  920  921  922  923  924  925  927  929\n",
            "  930  931  932  933  934  935  936  937  938  939  940  941  943  944\n",
            "  945  946  948  949  950  952  953  954  956  957  958  959  960  961\n",
            "  962  963  964  965  966  967  968  969  970  974  976  978  979  980\n",
            "  982  983  984  985  986  987  988  989  991  992  993  994  995  996\n",
            "  998 1000]\n"
          ],
          "name": "stdout"
        }
      ]
    },
    {
      "cell_type": "code",
      "metadata": {
        "colab": {
          "base_uri": "https://localhost:8080/"
        },
        "id": "abOP9FMhCkLR",
        "outputId": "422d8bab-9a18-45bf-d8e6-9db0c2f870b4"
      },
      "source": [
        "print(train_label)"
      ],
      "execution_count": null,
      "outputs": [
        {
          "output_type": "stream",
          "text": [
            "[1, 1, 1, 1, 0, 1, 1, 0, 1, 0, 1, 0, 0, 1, 1, 0, 0, 1, 1, 0, 0, 0, 1, 0, 1, 1, 0, 0, 1, 1, 1, 0, 1, 1, 1, 0, 1, 0, 0, 1, 0, 1, 0, 1, 1, 0, 1, 1, 1, 0, 1, 1, 0, 0, 0, 0, 0, 0, 1, 1, 1, 1, 0, 0, 1, 0, 1, 1, 0, 1, 1, 0, 1, 1, 0, 1, 1, 0, 1, 0, 1, 1, 1, 1, 0, 0, 0, 1, 1, 1, 1, 0, 0, 1, 0, 0, 0, 1, 1, 0, 1, 1, 0, 0, 0, 1, 1, 0, 1, 0, 1, 1, 1, 1, 0, 1, 1, 1, 1, 1, 0, 0, 0, 0, 0, 1, 0, 1, 0, 1, 1, 0, 1, 0, 0, 0, 0, 0, 1, 1, 0, 0, 0, 0, 1, 0, 0, 1, 0, 0, 1, 1, 0, 1, 0, 1, 1, 1, 0, 0, 1, 0, 1, 1, 1, 1, 0, 1, 0, 0, 0, 0, 1, 0, 1, 1, 1, 0, 0, 1, 0, 1, 0, 1, 1, 1, 0, 1, 1, 1, 1, 0, 0, 1, 1, 1, 1, 0, 1, 1]\n"
          ],
          "name": "stdout"
        }
      ]
    },
    {
      "cell_type": "code",
      "metadata": {
        "colab": {
          "base_uri": "https://localhost:8080/"
        },
        "id": "GDDS_Xq5CmnV",
        "outputId": "3e14db93-df63-4307-a819-e0bc1f69d374"
      },
      "source": [
        "from keras.utils import to_categorical\n",
        "\n",
        "train_label = to_categorical(train_label)\n",
        "\n",
        "print(train_label)"
      ],
      "execution_count": null,
      "outputs": [
        {
          "output_type": "stream",
          "text": [
            "[[0. 1.]\n",
            " [0. 1.]\n",
            " [0. 1.]\n",
            " [0. 1.]\n",
            " [1. 0.]\n",
            " [0. 1.]\n",
            " [0. 1.]\n",
            " [1. 0.]\n",
            " [0. 1.]\n",
            " [1. 0.]\n",
            " [0. 1.]\n",
            " [1. 0.]\n",
            " [1. 0.]\n",
            " [0. 1.]\n",
            " [0. 1.]\n",
            " [1. 0.]\n",
            " [1. 0.]\n",
            " [0. 1.]\n",
            " [0. 1.]\n",
            " [1. 0.]\n",
            " [1. 0.]\n",
            " [1. 0.]\n",
            " [0. 1.]\n",
            " [1. 0.]\n",
            " [0. 1.]\n",
            " [0. 1.]\n",
            " [1. 0.]\n",
            " [1. 0.]\n",
            " [0. 1.]\n",
            " [0. 1.]\n",
            " [0. 1.]\n",
            " [1. 0.]\n",
            " [0. 1.]\n",
            " [0. 1.]\n",
            " [0. 1.]\n",
            " [1. 0.]\n",
            " [0. 1.]\n",
            " [1. 0.]\n",
            " [1. 0.]\n",
            " [0. 1.]\n",
            " [1. 0.]\n",
            " [0. 1.]\n",
            " [1. 0.]\n",
            " [0. 1.]\n",
            " [0. 1.]\n",
            " [1. 0.]\n",
            " [0. 1.]\n",
            " [0. 1.]\n",
            " [0. 1.]\n",
            " [1. 0.]\n",
            " [0. 1.]\n",
            " [0. 1.]\n",
            " [1. 0.]\n",
            " [1. 0.]\n",
            " [1. 0.]\n",
            " [1. 0.]\n",
            " [1. 0.]\n",
            " [1. 0.]\n",
            " [0. 1.]\n",
            " [0. 1.]\n",
            " [0. 1.]\n",
            " [0. 1.]\n",
            " [1. 0.]\n",
            " [1. 0.]\n",
            " [0. 1.]\n",
            " [1. 0.]\n",
            " [0. 1.]\n",
            " [0. 1.]\n",
            " [1. 0.]\n",
            " [0. 1.]\n",
            " [0. 1.]\n",
            " [1. 0.]\n",
            " [0. 1.]\n",
            " [0. 1.]\n",
            " [1. 0.]\n",
            " [0. 1.]\n",
            " [0. 1.]\n",
            " [1. 0.]\n",
            " [0. 1.]\n",
            " [1. 0.]\n",
            " [0. 1.]\n",
            " [0. 1.]\n",
            " [0. 1.]\n",
            " [0. 1.]\n",
            " [1. 0.]\n",
            " [1. 0.]\n",
            " [1. 0.]\n",
            " [0. 1.]\n",
            " [0. 1.]\n",
            " [0. 1.]\n",
            " [0. 1.]\n",
            " [1. 0.]\n",
            " [1. 0.]\n",
            " [0. 1.]\n",
            " [1. 0.]\n",
            " [1. 0.]\n",
            " [1. 0.]\n",
            " [0. 1.]\n",
            " [0. 1.]\n",
            " [1. 0.]\n",
            " [0. 1.]\n",
            " [0. 1.]\n",
            " [1. 0.]\n",
            " [1. 0.]\n",
            " [1. 0.]\n",
            " [0. 1.]\n",
            " [0. 1.]\n",
            " [1. 0.]\n",
            " [0. 1.]\n",
            " [1. 0.]\n",
            " [0. 1.]\n",
            " [0. 1.]\n",
            " [0. 1.]\n",
            " [0. 1.]\n",
            " [1. 0.]\n",
            " [0. 1.]\n",
            " [0. 1.]\n",
            " [0. 1.]\n",
            " [0. 1.]\n",
            " [0. 1.]\n",
            " [1. 0.]\n",
            " [1. 0.]\n",
            " [1. 0.]\n",
            " [1. 0.]\n",
            " [1. 0.]\n",
            " [0. 1.]\n",
            " [1. 0.]\n",
            " [0. 1.]\n",
            " [1. 0.]\n",
            " [0. 1.]\n",
            " [0. 1.]\n",
            " [1. 0.]\n",
            " [0. 1.]\n",
            " [1. 0.]\n",
            " [1. 0.]\n",
            " [1. 0.]\n",
            " [1. 0.]\n",
            " [1. 0.]\n",
            " [0. 1.]\n",
            " [0. 1.]\n",
            " [1. 0.]\n",
            " [1. 0.]\n",
            " [1. 0.]\n",
            " [1. 0.]\n",
            " [0. 1.]\n",
            " [1. 0.]\n",
            " [1. 0.]\n",
            " [0. 1.]\n",
            " [1. 0.]\n",
            " [1. 0.]\n",
            " [0. 1.]\n",
            " [0. 1.]\n",
            " [1. 0.]\n",
            " [0. 1.]\n",
            " [1. 0.]\n",
            " [0. 1.]\n",
            " [0. 1.]\n",
            " [0. 1.]\n",
            " [1. 0.]\n",
            " [1. 0.]\n",
            " [0. 1.]\n",
            " [1. 0.]\n",
            " [0. 1.]\n",
            " [0. 1.]\n",
            " [0. 1.]\n",
            " [0. 1.]\n",
            " [1. 0.]\n",
            " [0. 1.]\n",
            " [1. 0.]\n",
            " [1. 0.]\n",
            " [1. 0.]\n",
            " [1. 0.]\n",
            " [0. 1.]\n",
            " [1. 0.]\n",
            " [0. 1.]\n",
            " [0. 1.]\n",
            " [0. 1.]\n",
            " [1. 0.]\n",
            " [1. 0.]\n",
            " [0. 1.]\n",
            " [1. 0.]\n",
            " [0. 1.]\n",
            " [1. 0.]\n",
            " [0. 1.]\n",
            " [0. 1.]\n",
            " [0. 1.]\n",
            " [1. 0.]\n",
            " [0. 1.]\n",
            " [0. 1.]\n",
            " [0. 1.]\n",
            " [0. 1.]\n",
            " [1. 0.]\n",
            " [1. 0.]\n",
            " [0. 1.]\n",
            " [0. 1.]\n",
            " [0. 1.]\n",
            " [0. 1.]\n",
            " [1. 0.]\n",
            " [0. 1.]\n",
            " [0. 1.]]\n"
          ],
          "name": "stdout"
        }
      ]
    },
    {
      "cell_type": "code",
      "metadata": {
        "colab": {
          "base_uri": "https://localhost:8080/"
        },
        "id": "iHEljjWCCohR",
        "outputId": "db1017ad-ca62-489a-e965-2a102aa0761a"
      },
      "source": [
        "from sklearn.model_selection import train_test_split\n",
        "\n",
        "X_train, X_val, Y_train, Y_val = train_test_split(train, train_label, test_size = 0.1, random_state=321)\n",
        "\n",
        "X_train.shape, X_val.shape, Y_train.shape, Y_val.shape "
      ],
      "execution_count": null,
      "outputs": [
        {
          "output_type": "execute_result",
          "data": {
            "text/plain": [
              "((180,), (20,), (180, 2), (20, 2))"
            ]
          },
          "metadata": {
            "tags": []
          },
          "execution_count": 29
        }
      ]
    },
    {
      "cell_type": "code",
      "metadata": {
        "id": "SvX4XcG5IYjn"
      },
      "source": [
        "X_train = np.expand_dims(X_train, -1)"
      ],
      "execution_count": null,
      "outputs": []
    },
    {
      "cell_type": "code",
      "metadata": {
        "colab": {
          "base_uri": "https://localhost:8080/"
        },
        "id": "mvpAq5iWIel7",
        "outputId": "0e78571f-2558-44fc-c353-16c4f79e0c78"
      },
      "source": [
        "X_train.shape"
      ],
      "execution_count": null,
      "outputs": [
        {
          "output_type": "execute_result",
          "data": {
            "text/plain": [
              "(180, 1)"
            ]
          },
          "metadata": {
            "tags": []
          },
          "execution_count": 31
        }
      ]
    },
    {
      "cell_type": "code",
      "metadata": {
        "id": "jx49MUhXPDqW"
      },
      "source": [
        "X_val = np.expand_dims(X_val, -1)"
      ],
      "execution_count": null,
      "outputs": []
    },
    {
      "cell_type": "code",
      "metadata": {
        "id": "lFIKQOPfKwDl"
      },
      "source": [
        "test = np.expand_dims(test, -1)"
      ],
      "execution_count": null,
      "outputs": []
    },
    {
      "cell_type": "code",
      "metadata": {
        "colab": {
          "base_uri": "https://localhost:8080/"
        },
        "id": "jbjhL6fCLucP",
        "outputId": "30b22f9d-3d89-42f8-8f8c-d4eecccb8121"
      },
      "source": [
        "test.shape"
      ],
      "execution_count": null,
      "outputs": [
        {
          "output_type": "execute_result",
          "data": {
            "text/plain": [
              "(800, 1)"
            ]
          },
          "metadata": {
            "tags": []
          },
          "execution_count": 34
        }
      ]
    },
    {
      "cell_type": "code",
      "metadata": {
        "colab": {
          "base_uri": "https://localhost:8080/"
        },
        "id": "8ZaKNTKdPPxP",
        "outputId": "e6985dfa-6de6-4c8c-9140-e3e49d7fb579"
      },
      "source": [
        "from keras.layers import Embedding, Dense, Dropout, Flatten\n",
        "from keras.layers.convolutional import Conv1D\n",
        "from keras.models import Sequential\n",
        "\n",
        "embed_dim = 50\n",
        "\n",
        "model = Sequential()\n",
        "model.add(Embedding(1000 + 1, embed_dim, weights=[embedding_matrix], input_length = X_train.shape[1]))\n",
        "model.add(Conv1D(filters=128, kernel_size=3, padding='same', activation='relu'))\n",
        "model.add(Dropout(0.5))\n",
        "model.add(Flatten())\n",
        "model.add(Dense(2,activation='softmax'))\n",
        "\n",
        "model.summary()"
      ],
      "execution_count": null,
      "outputs": [
        {
          "output_type": "stream",
          "text": [
            "Model: \"sequential\"\n",
            "_________________________________________________________________\n",
            "Layer (type)                 Output Shape              Param #   \n",
            "=================================================================\n",
            "embedding (Embedding)        (None, 1, 50)             50050     \n",
            "_________________________________________________________________\n",
            "conv1d (Conv1D)              (None, 1, 128)            19328     \n",
            "_________________________________________________________________\n",
            "dropout (Dropout)            (None, 1, 128)            0         \n",
            "_________________________________________________________________\n",
            "flatten (Flatten)            (None, 128)               0         \n",
            "_________________________________________________________________\n",
            "dense (Dense)                (None, 2)                 258       \n",
            "=================================================================\n",
            "Total params: 69,636\n",
            "Trainable params: 69,636\n",
            "Non-trainable params: 0\n",
            "_________________________________________________________________\n"
          ],
          "name": "stdout"
        }
      ]
    },
    {
      "cell_type": "code",
      "metadata": {
        "colab": {
          "base_uri": "https://localhost:8080/"
        },
        "id": "lk2M4TdBQf5U",
        "outputId": "4ea4b20a-2420-447b-db72-bf8d3e1c4b96"
      },
      "source": [
        "model.compile(loss = 'categorical_crossentropy', optimizer='adam',metrics = ['accuracy'])\n",
        "history = model.fit(X_train, Y_train, validation_data=(X_val, Y_val), epochs=50, batch_size=128)"
      ],
      "execution_count": null,
      "outputs": [
        {
          "output_type": "stream",
          "text": [
            "Epoch 1/50\n",
            "2/2 [==============================] - 0s 95ms/step - loss: 0.8438 - accuracy: 0.5222 - val_loss: 0.8671 - val_accuracy: 0.4500\n",
            "Epoch 2/50\n",
            "2/2 [==============================] - 0s 9ms/step - loss: 0.7367 - accuracy: 0.5556 - val_loss: 0.7288 - val_accuracy: 0.5000\n",
            "Epoch 3/50\n",
            "2/2 [==============================] - 0s 9ms/step - loss: 0.6475 - accuracy: 0.6278 - val_loss: 0.6153 - val_accuracy: 0.5500\n",
            "Epoch 4/50\n",
            "2/2 [==============================] - 0s 9ms/step - loss: 0.5969 - accuracy: 0.6944 - val_loss: 0.5226 - val_accuracy: 0.8000\n",
            "Epoch 5/50\n",
            "2/2 [==============================] - 0s 9ms/step - loss: 0.5157 - accuracy: 0.7278 - val_loss: 0.4509 - val_accuracy: 0.9000\n",
            "Epoch 6/50\n",
            "2/2 [==============================] - 0s 10ms/step - loss: 0.5191 - accuracy: 0.7611 - val_loss: 0.3930 - val_accuracy: 0.9000\n",
            "Epoch 7/50\n",
            "2/2 [==============================] - 0s 9ms/step - loss: 0.4761 - accuracy: 0.8167 - val_loss: 0.3467 - val_accuracy: 0.9000\n",
            "Epoch 8/50\n",
            "2/2 [==============================] - 0s 9ms/step - loss: 0.4254 - accuracy: 0.8278 - val_loss: 0.3092 - val_accuracy: 0.9000\n",
            "Epoch 9/50\n",
            "2/2 [==============================] - 0s 9ms/step - loss: 0.3912 - accuracy: 0.8444 - val_loss: 0.2799 - val_accuracy: 0.9000\n",
            "Epoch 10/50\n",
            "2/2 [==============================] - 0s 9ms/step - loss: 0.3731 - accuracy: 0.8611 - val_loss: 0.2557 - val_accuracy: 0.9000\n",
            "Epoch 11/50\n",
            "2/2 [==============================] - 0s 9ms/step - loss: 0.3567 - accuracy: 0.8333 - val_loss: 0.2344 - val_accuracy: 0.9000\n",
            "Epoch 12/50\n",
            "2/2 [==============================] - 0s 9ms/step - loss: 0.3188 - accuracy: 0.8889 - val_loss: 0.2181 - val_accuracy: 0.9000\n",
            "Epoch 13/50\n",
            "2/2 [==============================] - 0s 9ms/step - loss: 0.3065 - accuracy: 0.8667 - val_loss: 0.2050 - val_accuracy: 0.9000\n",
            "Epoch 14/50\n",
            "2/2 [==============================] - 0s 9ms/step - loss: 0.3104 - accuracy: 0.8833 - val_loss: 0.1937 - val_accuracy: 0.9500\n",
            "Epoch 15/50\n",
            "2/2 [==============================] - 0s 8ms/step - loss: 0.3065 - accuracy: 0.8944 - val_loss: 0.1845 - val_accuracy: 0.9500\n",
            "Epoch 16/50\n",
            "2/2 [==============================] - 0s 9ms/step - loss: 0.2591 - accuracy: 0.9000 - val_loss: 0.1771 - val_accuracy: 1.0000\n",
            "Epoch 17/50\n",
            "2/2 [==============================] - 0s 9ms/step - loss: 0.2555 - accuracy: 0.9111 - val_loss: 0.1701 - val_accuracy: 1.0000\n",
            "Epoch 18/50\n",
            "2/2 [==============================] - 0s 10ms/step - loss: 0.2532 - accuracy: 0.9111 - val_loss: 0.1630 - val_accuracy: 1.0000\n",
            "Epoch 19/50\n",
            "2/2 [==============================] - 0s 10ms/step - loss: 0.2127 - accuracy: 0.9333 - val_loss: 0.1562 - val_accuracy: 1.0000\n",
            "Epoch 20/50\n",
            "2/2 [==============================] - 0s 9ms/step - loss: 0.2201 - accuracy: 0.9333 - val_loss: 0.1501 - val_accuracy: 1.0000\n",
            "Epoch 21/50\n",
            "2/2 [==============================] - 0s 11ms/step - loss: 0.2298 - accuracy: 0.9111 - val_loss: 0.1437 - val_accuracy: 1.0000\n",
            "Epoch 22/50\n",
            "2/2 [==============================] - 0s 10ms/step - loss: 0.2255 - accuracy: 0.9278 - val_loss: 0.1365 - val_accuracy: 1.0000\n",
            "Epoch 23/50\n",
            "2/2 [==============================] - 0s 11ms/step - loss: 0.2073 - accuracy: 0.9389 - val_loss: 0.1299 - val_accuracy: 1.0000\n",
            "Epoch 24/50\n",
            "2/2 [==============================] - 0s 9ms/step - loss: 0.2130 - accuracy: 0.9222 - val_loss: 0.1240 - val_accuracy: 1.0000\n",
            "Epoch 25/50\n",
            "2/2 [==============================] - 0s 10ms/step - loss: 0.1942 - accuracy: 0.9389 - val_loss: 0.1183 - val_accuracy: 1.0000\n",
            "Epoch 26/50\n",
            "2/2 [==============================] - 0s 12ms/step - loss: 0.1774 - accuracy: 0.9611 - val_loss: 0.1128 - val_accuracy: 1.0000\n",
            "Epoch 27/50\n",
            "2/2 [==============================] - 0s 11ms/step - loss: 0.1802 - accuracy: 0.9333 - val_loss: 0.1079 - val_accuracy: 1.0000\n",
            "Epoch 28/50\n",
            "2/2 [==============================] - 0s 9ms/step - loss: 0.1737 - accuracy: 0.9500 - val_loss: 0.1036 - val_accuracy: 1.0000\n",
            "Epoch 29/50\n",
            "2/2 [==============================] - 0s 9ms/step - loss: 0.1690 - accuracy: 0.9556 - val_loss: 0.0996 - val_accuracy: 1.0000\n",
            "Epoch 30/50\n",
            "2/2 [==============================] - 0s 9ms/step - loss: 0.1595 - accuracy: 0.9500 - val_loss: 0.0958 - val_accuracy: 1.0000\n",
            "Epoch 31/50\n",
            "2/2 [==============================] - 0s 10ms/step - loss: 0.1419 - accuracy: 0.9611 - val_loss: 0.0926 - val_accuracy: 1.0000\n",
            "Epoch 32/50\n",
            "2/2 [==============================] - 0s 9ms/step - loss: 0.1568 - accuracy: 0.9556 - val_loss: 0.0896 - val_accuracy: 1.0000\n",
            "Epoch 33/50\n",
            "2/2 [==============================] - 0s 10ms/step - loss: 0.1610 - accuracy: 0.9389 - val_loss: 0.0865 - val_accuracy: 1.0000\n",
            "Epoch 34/50\n",
            "2/2 [==============================] - 0s 12ms/step - loss: 0.1487 - accuracy: 0.9500 - val_loss: 0.0839 - val_accuracy: 1.0000\n",
            "Epoch 35/50\n",
            "2/2 [==============================] - 0s 9ms/step - loss: 0.1705 - accuracy: 0.9444 - val_loss: 0.0817 - val_accuracy: 1.0000\n",
            "Epoch 36/50\n",
            "2/2 [==============================] - 0s 10ms/step - loss: 0.1365 - accuracy: 0.9611 - val_loss: 0.0796 - val_accuracy: 1.0000\n",
            "Epoch 37/50\n",
            "2/2 [==============================] - 0s 10ms/step - loss: 0.1246 - accuracy: 0.9778 - val_loss: 0.0775 - val_accuracy: 1.0000\n",
            "Epoch 38/50\n",
            "2/2 [==============================] - 0s 10ms/step - loss: 0.1292 - accuracy: 0.9778 - val_loss: 0.0754 - val_accuracy: 1.0000\n",
            "Epoch 39/50\n",
            "2/2 [==============================] - 0s 10ms/step - loss: 0.1190 - accuracy: 0.9778 - val_loss: 0.0735 - val_accuracy: 1.0000\n",
            "Epoch 40/50\n",
            "2/2 [==============================] - 0s 10ms/step - loss: 0.1250 - accuracy: 0.9444 - val_loss: 0.0718 - val_accuracy: 1.0000\n",
            "Epoch 41/50\n",
            "2/2 [==============================] - 0s 9ms/step - loss: 0.1262 - accuracy: 0.9444 - val_loss: 0.0698 - val_accuracy: 1.0000\n",
            "Epoch 42/50\n",
            "2/2 [==============================] - 0s 10ms/step - loss: 0.1151 - accuracy: 0.9667 - val_loss: 0.0680 - val_accuracy: 1.0000\n",
            "Epoch 43/50\n",
            "2/2 [==============================] - 0s 9ms/step - loss: 0.1247 - accuracy: 0.9667 - val_loss: 0.0662 - val_accuracy: 1.0000\n",
            "Epoch 44/50\n",
            "2/2 [==============================] - 0s 10ms/step - loss: 0.1099 - accuracy: 0.9778 - val_loss: 0.0646 - val_accuracy: 1.0000\n",
            "Epoch 45/50\n",
            "2/2 [==============================] - 0s 10ms/step - loss: 0.1103 - accuracy: 0.9611 - val_loss: 0.0630 - val_accuracy: 1.0000\n",
            "Epoch 46/50\n",
            "2/2 [==============================] - 0s 10ms/step - loss: 0.1149 - accuracy: 0.9722 - val_loss: 0.0615 - val_accuracy: 1.0000\n",
            "Epoch 47/50\n",
            "2/2 [==============================] - 0s 10ms/step - loss: 0.1050 - accuracy: 0.9778 - val_loss: 0.0595 - val_accuracy: 1.0000\n",
            "Epoch 48/50\n",
            "2/2 [==============================] - 0s 10ms/step - loss: 0.1172 - accuracy: 0.9667 - val_loss: 0.0576 - val_accuracy: 1.0000\n",
            "Epoch 49/50\n",
            "2/2 [==============================] - 0s 9ms/step - loss: 0.1073 - accuracy: 0.9667 - val_loss: 0.0559 - val_accuracy: 1.0000\n",
            "Epoch 50/50\n",
            "2/2 [==============================] - 0s 9ms/step - loss: 0.1006 - accuracy: 0.9778 - val_loss: 0.0544 - val_accuracy: 1.0000\n"
          ],
          "name": "stdout"
        }
      ]
    },
    {
      "cell_type": "code",
      "metadata": {
        "id": "hsnr3p3IBxQk"
      },
      "source": [
        "predict_val = (model.predict(X_val) >= 0.5) "
      ],
      "execution_count": null,
      "outputs": []
    },
    {
      "cell_type": "code",
      "metadata": {
        "colab": {
          "base_uri": "https://localhost:8080/"
        },
        "id": "Hfkmkcg6CAY5",
        "outputId": "e080e577-33c0-4499-bb34-a9fc9f1f131f"
      },
      "source": [
        "from sklearn import metrics\n",
        "\n",
        "print('Accuracy:\\n',\n",
        "      metrics.accuracy_score(Y_val, predict_val))"
      ],
      "execution_count": null,
      "outputs": [
        {
          "output_type": "stream",
          "text": [
            "Accuracy:\n",
            " 1.0\n"
          ],
          "name": "stdout"
        }
      ]
    }
  ]
}